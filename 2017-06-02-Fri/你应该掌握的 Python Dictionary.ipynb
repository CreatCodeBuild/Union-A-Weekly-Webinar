{
 "cells": [
  {
   "cell_type": "markdown",
   "metadata": {},
   "source": [
    "# Modern Python Dictionary\n",
    "优等生公开课 2017-06-02, Fri\n",
    "\n",
    "__这一期深入讨论 Python Dictionary。下一期会和大家讨论 PCA__\n",
    "\n",
    "一切代码Python3"
   ]
  },
  {
   "cell_type": "code",
   "execution_count": 1,
   "metadata": {
    "collapsed": false
   },
   "outputs": [
    {
     "data": {
      "text/plain": [
       "'key has to be hashable'"
      ]
     },
     "execution_count": 1,
     "metadata": {},
     "output_type": "execute_result"
    }
   ],
   "source": [
    "\"\"\"\n",
    "Python is build on dictionaries. 这里我们先从使用的角度来看看 Dictionary。\n",
    "\n",
    "Namespace, Class member, local variable\n",
    "\n",
    "Dictionary 是用来存储键值对的。\n",
    "\"\"\"\n",
    "\n",
    "def f():\n",
    "    print('A function')\n",
    "\n",
    "d = {\n",
    "    1: \"123\",\n",
    "    \"x\": 213,\n",
    "    123: None,\n",
    "    None: f\n",
    "}\n",
    "\n",
    "\"key has to be hashable\""
   ]
  },
  {
   "cell_type": "code",
   "execution_count": 2,
   "metadata": {
    "collapsed": false
   },
   "outputs": [
    {
     "ename": "TypeError",
     "evalue": "unhashable type: 'list'",
     "output_type": "error",
     "traceback": [
      "\u001b[0;31m---------------------------------------------------------------------------\u001b[0m",
      "\u001b[0;31mTypeError\u001b[0m                                 Traceback (most recent call last)",
      "\u001b[0;32m<ipython-input-2-2d9c32cbc9d4>\u001b[0m in \u001b[0;36m<module>\u001b[0;34m()\u001b[0m\n\u001b[1;32m      1\u001b[0m \u001b[1;31m# key is not mutable\u001b[0m\u001b[1;33m\u001b[0m\u001b[1;33m\u001b[0m\u001b[0m\n\u001b[0;32m----> 2\u001b[0;31m \u001b[0md\u001b[0m\u001b[1;33m[\u001b[0m\u001b[1;33m[\u001b[0m\u001b[1;36m1\u001b[0m\u001b[1;33m,\u001b[0m\u001b[1;36m2\u001b[0m\u001b[1;33m]\u001b[0m\u001b[1;33m]\u001b[0m \u001b[1;33m=\u001b[0m \u001b[1;36m1\u001b[0m\u001b[1;33m\u001b[0m\u001b[0m\n\u001b[0m",
      "\u001b[0;31mTypeError\u001b[0m: unhashable type: 'list'"
     ]
    }
   ],
   "source": [
    "# key is not mutable\n",
    "d[[1,2]] = 1"
   ]
  },
  {
   "cell_type": "code",
   "execution_count": 3,
   "metadata": {
    "collapsed": true
   },
   "outputs": [],
   "source": [
    "d[(1,2)] = 10  # tuple is immutable"
   ]
  },
  {
   "cell_type": "code",
   "execution_count": 4,
   "metadata": {
    "collapsed": false
   },
   "outputs": [
    {
     "name": "stdout",
     "output_type": "stream",
     "text": [
      "{(1, 2): 10, 1: '123', None: <function f at 0x0000028823182488>, 123: None, 'x': 213}\n"
     ]
    }
   ],
   "source": [
    "print(d)"
   ]
  },
  {
   "cell_type": "code",
   "execution_count": 5,
   "metadata": {
    "collapsed": false
   },
   "outputs": [
    {
     "name": "stdout",
     "output_type": "stream",
     "text": [
      "(1, 2)\n",
      "1\n",
      "None\n",
      "123\n",
      "x\n",
      "\n",
      "(1, 2)\n",
      "1\n",
      "None\n",
      "123\n",
      "x\n",
      "\n",
      "10\n",
      "123\n",
      "<function f at 0x0000028823182488>\n",
      "None\n",
      "213\n",
      "\n",
      "(1, 2) : 10\n",
      "1 : 123\n",
      "None : <function f at 0x0000028823182488>\n",
      "123 : None\n",
      "x : 213\n"
     ]
    }
   ],
   "source": [
    "\"\"\"\n",
    "loop over dict 遍历字典\n",
    "\"\"\"\n",
    "\n",
    "for k in d:\n",
    "    print(k)\n",
    "\n",
    "print()\n",
    "\n",
    "for k in d.keys():\n",
    "    print(k)\n",
    "\n",
    "print()\n",
    "\n",
    "    \n",
    "for v in d.values():\n",
    "    print(v)\n",
    "    \n",
    "print()\n",
    "\n",
    "for k, v in d.items():\n",
    "    print(k, \":\", v)"
   ]
  },
  {
   "cell_type": "code",
   "execution_count": 6,
   "metadata": {
    "collapsed": false
   },
   "outputs": [
    {
     "name": "stdout",
     "output_type": "stream",
     "text": [
      "{1: 'red', 2: 'blue', 3: '白色', 4: 'white'}\n"
     ]
    }
   ],
   "source": [
    "\"\"\"\n",
    "construct dicts from pairs\n",
    "\"\"\"\n",
    "\n",
    "a = [1, 2, 3, 4]\n",
    "b = [\"red\", \"blue\", \"白色\", \"white\"]\n",
    "\n",
    "\"第一种方法。但是不简洁\"\n",
    "d = {}\n",
    "i = 0\n",
    "for item in a:\n",
    "    d[item] = b[i]\n",
    "    i += 1\n",
    "print(d)"
   ]
  },
  {
   "cell_type": "code",
   "execution_count": 7,
   "metadata": {
    "collapsed": false
   },
   "outputs": [
    {
     "name": "stdout",
     "output_type": "stream",
     "text": [
      "{1: 'red', 2: 'blue', 3: '白色', 4: 'white'}\n"
     ]
    }
   ],
   "source": [
    "\"也不简洁\"\n",
    "d = {}\n",
    "for i in range(len(a)):\n",
    "    d[a[i]] = b[i]\n",
    "print(d)"
   ]
  },
  {
   "cell_type": "code",
   "execution_count": 8,
   "metadata": {
    "collapsed": false
   },
   "outputs": [
    {
     "name": "stdout",
     "output_type": "stream",
     "text": [
      "{1: 'red', 2: 'blue', 3: '白色', 4: 'white'}\n"
     ]
    }
   ],
   "source": [
    "\"稍好\"\n",
    "d = {}\n",
    "for i, item in enumerate(a):\n",
    "    d[item] = b[i]\n",
    "print(d)"
   ]
  },
  {
   "cell_type": "code",
   "execution_count": 9,
   "metadata": {
    "collapsed": false
   },
   "outputs": [
    {
     "name": "stdout",
     "output_type": "stream",
     "text": [
      "{1: 'red', 2: 'blue', 3: '白色', 4: 'white'}\n"
     ]
    }
   ],
   "source": [
    "\"Pythonic\"\n",
    "d = {}\n",
    "for x, y in zip(a, b):\n",
    "    d[x] = y\n",
    "print(d)"
   ]
  },
  {
   "cell_type": "code",
   "execution_count": 10,
   "metadata": {
    "collapsed": false
   },
   "outputs": [
    {
     "name": "stdout",
     "output_type": "stream",
     "text": [
      "{1: 'red', 2: 'blue', 3: '白色', 4: 'white', 10: '2'}\n"
     ]
    }
   ],
   "source": [
    "\"Most Pythonic\"\n",
    "a = [1, 2, 3, 4, 10]\n",
    "b = [\"red\", \"blue\", \"白色\", \"white\", \"2\"]\n",
    "d = dict(zip(a, b))\n",
    "print(d)"
   ]
  },
  {
   "cell_type": "code",
   "execution_count": 11,
   "metadata": {
    "collapsed": false
   },
   "outputs": [],
   "source": [
    "\"\"\"\n",
    "Counting 数数\n",
    "\"\"\"\n",
    "l = [\"red\", \"red\", \"while\", \"black\", \"while\"]\n",
    "\n",
    "\"\"\"\n",
    "你当然可以使用\n",
    "from collections import Counter\n",
    "\"\"\"\n",
    "pass"
   ]
  },
  {
   "cell_type": "code",
   "execution_count": 12,
   "metadata": {
    "collapsed": false
   },
   "outputs": [
    {
     "name": "stdout",
     "output_type": "stream",
     "text": [
      "{'black': 1, 'red': 2, 'while': 2}\n"
     ]
    }
   ],
   "source": [
    "\"最基本的方法。如果不会这个，其他的也无从谈起\" \n",
    "d = {}\n",
    "for x in l:\n",
    "    if x in d:\n",
    "        d[x] += 1\n",
    "    else:\n",
    "        d[x] = 1\n",
    "print(d)"
   ]
  },
  {
   "cell_type": "code",
   "execution_count": 13,
   "metadata": {
    "collapsed": false
   },
   "outputs": [
    {
     "name": "stdout",
     "output_type": "stream",
     "text": [
      "{'black': 1, 'red': 2, 'while': 2}\n"
     ]
    }
   ],
   "source": [
    "\"Better\"\n",
    "d = {}\n",
    "for x in l:\n",
    "    d[x] = d.get(x, 0) + 1\n",
    "print(d)"
   ]
  },
  {
   "cell_type": "code",
   "execution_count": 14,
   "metadata": {
    "collapsed": false
   },
   "outputs": [
    {
     "name": "stdout",
     "output_type": "stream",
     "text": [
      "defaultdict(<class 'int'>, {'black': 1, 'red': 2, 'while': 2})\n"
     ]
    }
   ],
   "source": [
    "\"Even better\"\n",
    "from collections import defaultdict\n",
    "\n",
    "d = defaultdict(int)\n",
    "for x in l:\n",
    "    d[x] += 1\n",
    "print(d)"
   ]
  },
  {
   "cell_type": "code",
   "execution_count": 15,
   "metadata": {
    "collapsed": false
   },
   "outputs": [
    {
     "name": "stdout",
     "output_type": "stream",
     "text": [
      "{0: [10, 100, 40, 30, -100, 10, 0], 2: [32], 4: [9], 'Not A Number': ['string']}\n"
     ]
    }
   ],
   "source": [
    "\"\"\"\n",
    "Grouping with dictionary 按条件分类\n",
    "\"\"\"\n",
    "\n",
    "l = [10, 100, 40, 30, -100, 32, 10, 9, 0, \"string\"]\n",
    "\n",
    "\"除以 5 余数相同的分一类。该怎么做？\"\n",
    "\n",
    "d = {}\n",
    "for x in l:\n",
    "    try:\n",
    "        key = x % 5\n",
    "    except TypeError:\n",
    "        key = \"Not A Number\"\n",
    "    d[key] = d.get(key, [])\n",
    "    d[key].append(x)\n",
    "\n",
    "print(d)"
   ]
  },
  {
   "cell_type": "code",
   "execution_count": 16,
   "metadata": {
    "collapsed": false
   },
   "outputs": [
    {
     "data": {
      "text/plain": [
       "{False: [10, 100, 40, 30, -100, 32, 10, 9, 'string'], True: [0]}"
      ]
     },
     "execution_count": 16,
     "metadata": {},
     "output_type": "execute_result"
    }
   ],
   "source": [
    "\"我们可以注意到这里只有key是需要改的。所以我们可以封装一个函数来实现通用的分类\"\n",
    "\n",
    "def group_by(condition):\n",
    "    d = {}\n",
    "    for x in l:\n",
    "        key = condition(x)\n",
    "        d[key] = d.get(key, [])\n",
    "        d[key].append(x)\n",
    "    return d\n",
    "\n",
    "# == 0 or != 0\n",
    "group_by(lambda x: x == 0)"
   ]
  },
  {
   "cell_type": "code",
   "execution_count": 17,
   "metadata": {
    "collapsed": false
   },
   "outputs": [
    {
     "data": {
      "text/plain": [
       "{False: [10, 100, 40, 30, -100, 32, 10, 9, 'string'], True: [0]}"
      ]
     },
     "execution_count": 17,
     "metadata": {},
     "output_type": "execute_result"
    }
   ],
   "source": [
    "\"\"\"\n",
    "d[key] = d.get(key, [])\n",
    "d[key].append(x)\n",
    "简化为\n",
    "d.setdefault(key, []).append(x)\n",
    "\"\"\"\n",
    "def group_by(condition):\n",
    "    d = {}\n",
    "    for x in l:\n",
    "        key = condition(x)\n",
    "        d.setdefault(key, []).append(x)\n",
    "    return d\n",
    "group_by(lambda x: x == 0)"
   ]
  },
  {
   "cell_type": "code",
   "execution_count": 18,
   "metadata": {
    "collapsed": false
   },
   "outputs": [
    {
     "data": {
      "text/plain": [
       "defaultdict(list,\n",
       "            {False: [10, 100, 40, 30, -100, 32, 10, 9, 0], True: ['string']})"
      ]
     },
     "execution_count": 18,
     "metadata": {},
     "output_type": "execute_result"
    }
   ],
   "source": [
    "\"default dict 版本\"\n",
    "def group_by(condition):\n",
    "    d = defaultdict(list)\n",
    "    for x in l:\n",
    "        key = condition(x)\n",
    "        d[key].append(x)\n",
    "    return d\n",
    "\n",
    "# 是否为 string？\n",
    "group_by(lambda x: isinstance(x, str))"
   ]
  },
  {
   "cell_type": "code",
   "execution_count": 19,
   "metadata": {
    "collapsed": false
   },
   "outputs": [
    {
     "name": "stdout",
     "output_type": "stream",
     "text": [
      "{1: 11, 2: 20, 3: 365, 'xxx': None}\n"
     ]
    }
   ],
   "source": [
    "\"\"\"\n",
    "更新字典\n",
    "\"\"\"\n",
    "d1 = {1: 10, 2: 20}\n",
    "d2 = {1: 11, 3: 365, \"xxx\": None}\n",
    "d1.update(d2)\n",
    "print(d1)"
   ]
  },
  {
   "cell_type": "code",
   "execution_count": null,
   "metadata": {
    "collapsed": true
   },
   "outputs": [],
   "source": [
    "\"\"\"\n",
    "本次就讲到这里。字典还有很多可以讲的。但是刚刚开始使用 Python 时，知道这些就行了。\n",
    "\"\"\""
   ]
  }
 ],
 "metadata": {
  "kernelspec": {
   "display_name": "Python 3",
   "language": "python",
   "name": "python3"
  },
  "language_info": {
   "codemirror_mode": {
    "name": "ipython",
    "version": 3
   },
   "file_extension": ".py",
   "mimetype": "text/x-python",
   "name": "python",
   "nbconvert_exporter": "python",
   "pygments_lexer": "ipython3",
   "version": "3.5.2"
  }
 },
 "nbformat": 4,
 "nbformat_minor": 2
}

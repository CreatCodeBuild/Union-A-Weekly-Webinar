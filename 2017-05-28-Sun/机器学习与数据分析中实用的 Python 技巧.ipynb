{
 "cells": [
  {
   "cell_type": "markdown",
   "metadata": {},
   "source": [
    "## 优等生公开课直播 \n",
    "2017年5月28号周日 \n",
    "\n",
    "__本周分享在机器学习与数据分析中使用的 Python 技巧。本次注重于 Python 语言本身，尽量不涉及框架或库。__  \n",
    "__This Week, I share Python tips in machine learning and data analysis. This share focuses on the Python language, not frameworks or libraries.__"
   ]
  },
  {
   "cell_type": "code",
   "execution_count": 11,
   "metadata": {
    "collapsed": false
   },
   "outputs": [
    {
     "name": "stdout",
     "output_type": "stream",
     "text": [
      "_list = [x + 1 for x in range(10)] -> [0, 2, 2, 6, 4, 10, 6, 14, 8, 18]\n",
      "[4, 8, 12]\n",
      "[5, 10, 15]\n",
      "[6, 12, 18]\n"
     ]
    }
   ],
   "source": [
    "\"\"\" 1\n",
    "Comprehension 生成式 / Generator Expression\n",
    "\n",
    "我们经常会与序列式的数据打交道（Array、List、哈希表）。Python 提供了简便的生成语法。\n",
    "\"\"\"\n",
    "\n",
    "_list = [x if x % 2 == 0 else x* 2 for x in range(10)]\n",
    "print('_list = [x + 1 for x in range(10)] ->', _list)\n",
    "\n",
    "\"这是列表生成式（List Comprehension），非常有用的语法\"\n",
    "\"比如我们要计算两个向量的矩阵乘积。\"\n",
    "\n",
    "a = [1, 2, 3]\n",
    "b = [4, 5, 6]\n",
    "\n",
    "product = [ [x * y for x in a] for y in b]\n",
    "for x in product:\n",
    "    print(x)"
   ]
  },
  {
   "cell_type": "code",
   "execution_count": 4,
   "metadata": {
    "collapsed": false
   },
   "outputs": [
    {
     "name": "stdout",
     "output_type": "stream",
     "text": [
      "[0, 2, 4, 6, 8]\n"
     ]
    }
   ],
   "source": [
    "\"列表生成式也是可以条件选择的\"\n",
    "\"比如只要挑出一个序列的双数\"\n",
    "result = [ x for x in range(10) if x % 2 == 0]\n",
    "print(result)"
   ]
  },
  {
   "cell_type": "code",
   "execution_count": 9,
   "metadata": {
    "collapsed": false
   },
   "outputs": [
    {
     "name": "stdout",
     "output_type": "stream",
     "text": [
      "{1: 4, 2: 5, 3: 6}\n"
     ]
    }
   ],
   "source": [
    "\"生成式也许是对于数据工作者而言最重要的 Python 语法\"\n",
    "\"除了 List Comprehension，还有 Dict Comprehension\"\n",
    "d = {x: y for x, y in zip(a, b)}\n",
    "print(d)"
   ]
  },
  {
   "cell_type": "code",
   "execution_count": 2,
   "metadata": {
    "collapsed": false
   },
   "outputs": [
    {
     "name": "stdout",
     "output_type": "stream",
     "text": [
      "<generator object <genexpr> at 0x0000010B48545A98>\n"
     ]
    }
   ],
   "source": [
    "# 那么你可能会好奇，tuple这样immutable的数据结构能不能使用生成式\n",
    "_object = (x for x in range(10))\n",
    "print(_object)\n",
    "\n",
    "# 由此可见，其实不然。\n",
    "# 但是，值得注意的是，这里我们得到的是一个生成器 generator object"
   ]
  },
  {
   "cell_type": "code",
   "execution_count": 3,
   "metadata": {
    "collapsed": false
   },
   "outputs": [
    {
     "name": "stdout",
     "output_type": "stream",
     "text": [
      "1\n"
     ]
    }
   ],
   "source": [
    "\"\"\"2\n",
    "生成器 Generator\n",
    "\n",
    "生成器是可以暂停的函数\n",
    "\"\"\"\n",
    "\n",
    "# 这是生成器的一种简便语法\n",
    "_object = (x for x in range(10))\n",
    "\n",
    "# 但是这种语法只能做到简单的序列式数据的生成\n",
    "\n",
    "# 完整的语法如下\n",
    "\n",
    "def xxx():\n",
    "    yield 1                # 我们使用 yield 关键字\n",
    "    print('after 1')\n",
    "    yield \"2\"\n",
    "    print('after 2')\n",
    "    return 4               # 生成式函数可以使用 return。但不是必须的。一切适用于普通函数的法则也适用于生成器函数。\n",
    "\n",
    "# 调用这个函数不会运行任何的代码，只会得到一个 generator object\n",
    "x = xxx()\n",
    "\n",
    "# 一个 generator object 需要用 next 函数去驱动\n",
    "print(next(x))"
   ]
  },
  {
   "cell_type": "code",
   "execution_count": 4,
   "metadata": {
    "collapsed": false
   },
   "outputs": [
    {
     "name": "stdout",
     "output_type": "stream",
     "text": [
      "after 1\n",
      "2\n",
      "after 2\n"
     ]
    },
    {
     "ename": "StopIteration",
     "evalue": "4",
     "output_type": "error",
     "traceback": [
      "\u001b[0;31m---------------------------------------------------------------------------\u001b[0m",
      "\u001b[0;31mStopIteration\u001b[0m                             Traceback (most recent call last)",
      "\u001b[0;32m<ipython-input-4-c1d34e943a80>\u001b[0m in \u001b[0;36m<module>\u001b[0;34m()\u001b[0m\n\u001b[1;32m      2\u001b[0m \u001b[1;33m\u001b[0m\u001b[0m\n\u001b[1;32m      3\u001b[0m \u001b[1;31m# 走到头了（走到 return）就会出现 StopIteration 错误\u001b[0m\u001b[1;33m\u001b[0m\u001b[1;33m\u001b[0m\u001b[0m\n\u001b[0;32m----> 4\u001b[0;31m \u001b[0mprint\u001b[0m\u001b[1;33m(\u001b[0m\u001b[0mnext\u001b[0m\u001b[1;33m(\u001b[0m\u001b[0mx\u001b[0m\u001b[1;33m)\u001b[0m\u001b[1;33m)\u001b[0m\u001b[1;33m\u001b[0m\u001b[0m\n\u001b[0m",
      "\u001b[0;31mStopIteration\u001b[0m: 4"
     ]
    }
   ],
   "source": [
    "print(next(x))\n",
    "\n",
    "# 走到头了（走到 return）就会出现 StopIteration 错误\n",
    "print(next(x))"
   ]
  },
  {
   "cell_type": "code",
   "execution_count": 6,
   "metadata": {
    "collapsed": false
   },
   "outputs": [
    {
     "name": "stdout",
     "output_type": "stream",
     "text": [
      "1\n",
      "after 1\n",
      "2\n",
      "after 2\n",
      "end!!!\n"
     ]
    }
   ],
   "source": [
    "# 所以一般就需要用 try except 将其包住\n",
    "x = xxx()\n",
    "try:\n",
    "    print(next(x))\n",
    "except StopIteration:\n",
    "    print(\"end!!!\")\n",
    "    \n",
    "try:\n",
    "    print(next(x))\n",
    "except StopIteration:\n",
    "    print(\"end!!!\")\n",
    "\n",
    "try:\n",
    "    print(next(x))\n",
    "except StopIteration:\n",
    "    print(\"end!!!\")"
   ]
  },
  {
   "cell_type": "code",
   "execution_count": 28,
   "metadata": {
    "collapsed": false
   },
   "outputs": [
    {
     "name": "stdout",
     "output_type": "stream",
     "text": [
      "1\n",
      "after 1\n",
      "2\n",
      "after 2\n"
     ]
    }
   ],
   "source": [
    "# 不过，很多时候我们就用 generator 来喂一个 for loop。这里 for loop 自动处理 StopIteration\n",
    "for i in xxx():\n",
    "    print(i)"
   ]
  },
  {
   "cell_type": "code",
   "execution_count": 7,
   "metadata": {
    "collapsed": false
   },
   "outputs": [
    {
     "name": "stdout",
     "output_type": "stream",
     "text": [
      "before\n",
      "1\n",
      "after 1\n",
      "2\n",
      "after 2\n",
      "after\n"
     ]
    }
   ],
   "source": [
    "# generator 可以调用其他的 generator\n",
    "def yyy():\n",
    "    yield \"before\"\n",
    "    yield from xxx()\n",
    "    yield \"after\"\n",
    "\n",
    "for y in yyy():\n",
    "    print(y)"
   ]
  },
  {
   "cell_type": "code",
   "execution_count": 11,
   "metadata": {
    "collapsed": false
   },
   "outputs": [
    {
     "name": "stdout",
     "output_type": "stream",
     "text": [
      "1\n",
      "2\n",
      "3\n",
      "4\n",
      "5\n",
      "6\n",
      "7\n",
      "8\n",
      "9\n",
      "10\n",
      "result 10\n"
     ]
    }
   ],
   "source": [
    "# generator 也可以做递归（recursion）\n",
    "def r(n):\n",
    "    print(n)\n",
    "    if n < 10:\n",
    "        yield from r(n+1)\n",
    "    else:\n",
    "        yield n\n",
    "\n",
    "for i in r(1):\n",
    "    print(\"result\", i)"
   ]
  },
  {
   "cell_type": "code",
   "execution_count": 38,
   "metadata": {
    "collapsed": false
   },
   "outputs": [
    {
     "name": "stdout",
     "output_type": "stream",
     "text": [
      ".\\xxxx.txt\n",
      "None\n"
     ]
    }
   ],
   "source": [
    "from glob import iglob, glob   # glob 只是一个方便的读文件路径的函数\n",
    "\n",
    "\n",
    "\"\"\" 有了 generator, 你在机器学习的时候就可以写这样的代码\n",
    "    这样可以做到省内存\n",
    "\n",
    "def read():\n",
    "    return [], []\n",
    "\n",
    "def feed_data(path):\n",
    "    for file_path in glob(path):\n",
    "        with open(file_path) as f:\n",
    "            yield read(f)\n",
    "\n",
    "for samples, labels in feed_data('*.data'):\n",
    "    .....\n",
    "    moeld.fit(samples, labels)\n",
    "\"\"\""
   ]
  },
  {
   "cell_type": "code",
   "execution_count": 24,
   "metadata": {
    "collapsed": false
   },
   "outputs": [
    {
     "name": "stdout",
     "output_type": "stream",
     "text": [
      "0\n",
      "1\n",
      "2\n"
     ]
    },
    {
     "ename": "StopIteration",
     "evalue": "",
     "output_type": "error",
     "traceback": [
      "\u001b[0;31m---------------------------------------------------------------------------\u001b[0m",
      "\u001b[0;31mStopIteration\u001b[0m                             Traceback (most recent call last)",
      "\u001b[0;32m<ipython-input-24-b4fc3ff39af0>\u001b[0m in \u001b[0;36m<module>\u001b[0;34m()\u001b[0m\n\u001b[1;32m      5\u001b[0m \u001b[0mprint\u001b[0m\u001b[1;33m(\u001b[0m\u001b[0mnext\u001b[0m\u001b[1;33m(\u001b[0m\u001b[0mr\u001b[0m\u001b[1;33m)\u001b[0m\u001b[1;33m)\u001b[0m\u001b[1;33m\u001b[0m\u001b[0m\n\u001b[1;32m      6\u001b[0m \u001b[0mprint\u001b[0m\u001b[1;33m(\u001b[0m\u001b[0mnext\u001b[0m\u001b[1;33m(\u001b[0m\u001b[0mr\u001b[0m\u001b[1;33m)\u001b[0m\u001b[1;33m)\u001b[0m\u001b[1;33m\u001b[0m\u001b[0m\n\u001b[0;32m----> 7\u001b[0;31m \u001b[0mprint\u001b[0m\u001b[1;33m(\u001b[0m\u001b[0mnext\u001b[0m\u001b[1;33m(\u001b[0m\u001b[0mr\u001b[0m\u001b[1;33m)\u001b[0m\u001b[1;33m)\u001b[0m\u001b[1;33m\u001b[0m\u001b[0m\n\u001b[0m",
      "\u001b[0;31mStopIteration\u001b[0m: "
     ]
    }
   ],
   "source": [
    "# Python 中很多东西都是 generator 或者 generator 相关的\n",
    "# 比如 range\n",
    "r = iter(range(3))\n",
    "print(next(r))\n",
    "print(next(r))\n",
    "print(next(r))\n",
    "print(next(r))\n",
    "\n",
    "# 这里有 iter 函数。generator 和 iterator 以及 iterable 有密切的联系。这里就不多讲了。\n",
    "# 刚刚的 glob 也和 generator 有关。\n",
    "# 其实 iglob 是 generator。在源代码中，glob(x) = list(iglob(x))"
   ]
  },
  {
   "cell_type": "code",
   "execution_count": 45,
   "metadata": {
    "collapsed": false
   },
   "outputs": [
    {
     "name": "stdout",
     "output_type": "stream",
     "text": [
      "0.5\n",
      "0\n"
     ]
    }
   ],
   "source": [
    "\"\"\"3\n",
    "Python 的运算符\n",
    "\"\"\"\n",
    "\n",
    "# Python 的除法有小数除法与整数除法之分\n",
    "print(2/4)\n",
    "print(2//4)"
   ]
  },
  {
   "cell_type": "code",
   "execution_count": 52,
   "metadata": {
    "collapsed": false
   },
   "outputs": [
    {
     "name": "stdout",
     "output_type": "stream",
     "text": [
      "2\n",
      "-2\n"
     ]
    }
   ],
   "source": [
    "# Python 的小数取整是向 0 取整。这里和 2's complement 编码关系。\n",
    "print(int(2.5))\n",
    "print(int(-2.5))"
   ]
  },
  {
   "cell_type": "code",
   "execution_count": 53,
   "metadata": {
    "collapsed": false
   },
   "outputs": [
    {
     "name": "stdout",
     "output_type": "stream",
     "text": [
      "3.333333333333333333333333333\n"
     ]
    }
   ],
   "source": [
    "# 小数是 IEEE 的 floating float 编码，所以是不精确的。如果你需要精确的十进制运算，可以使用 decimal 库。\n",
    "import decimal"
   ]
  },
  {
   "cell_type": "code",
   "execution_count": 54,
   "metadata": {
    "collapsed": false
   },
   "outputs": [
    {
     "name": "stdout",
     "output_type": "stream",
     "text": [
      "[1, 2, 3, 4, 5, 6]\n"
     ]
    }
   ],
   "source": [
    "\"一切 Python 运算符都可以重载 operator overload\"\n",
    "\n",
    "# 比如 + 对于 list 而言是连接两个 list，得到一个新的 list（新的内存）\n",
    "a = [1,2,3] + [4,5,6]\n",
    "print(a)"
   ]
  },
  {
   "cell_type": "code",
   "execution_count": 25,
   "metadata": {
    "collapsed": false
   },
   "outputs": [
    {
     "name": "stdout",
     "output_type": "stream",
     "text": [
      "[5 7 9]\n"
     ]
    },
    {
     "ename": "ValueError",
     "evalue": "operands could not be broadcast together with shapes (3,) (4,) ",
     "output_type": "error",
     "traceback": [
      "\u001b[0;31m---------------------------------------------------------------------------\u001b[0m",
      "\u001b[0;31mValueError\u001b[0m                                Traceback (most recent call last)",
      "\u001b[0;32m<ipython-input-25-07f816b0e7ed>\u001b[0m in \u001b[0;36m<module>\u001b[0;34m()\u001b[0m\n\u001b[1;32m      4\u001b[0m \u001b[1;33m\u001b[0m\u001b[0m\n\u001b[1;32m      5\u001b[0m \u001b[1;31m# 这样就会出错\u001b[0m\u001b[1;33m\u001b[0m\u001b[1;33m\u001b[0m\u001b[0m\n\u001b[0;32m----> 6\u001b[0;31m \u001b[0mprint\u001b[0m\u001b[1;33m(\u001b[0m\u001b[0marray\u001b[0m\u001b[1;33m(\u001b[0m\u001b[1;33m[\u001b[0m\u001b[1;36m1\u001b[0m\u001b[1;33m,\u001b[0m\u001b[1;36m2\u001b[0m\u001b[1;33m,\u001b[0m\u001b[1;36m3\u001b[0m\u001b[1;33m]\u001b[0m\u001b[1;33m)\u001b[0m \u001b[1;33m+\u001b[0m \u001b[0marray\u001b[0m\u001b[1;33m(\u001b[0m\u001b[1;33m[\u001b[0m\u001b[1;36m4\u001b[0m\u001b[1;33m,\u001b[0m\u001b[1;36m5\u001b[0m\u001b[1;33m,\u001b[0m\u001b[1;36m6\u001b[0m\u001b[1;33m,\u001b[0m\u001b[1;36m7\u001b[0m\u001b[1;33m]\u001b[0m\u001b[1;33m)\u001b[0m\u001b[1;33m)\u001b[0m\u001b[1;33m\u001b[0m\u001b[0m\n\u001b[0m",
      "\u001b[0;31mValueError\u001b[0m: operands could not be broadcast together with shapes (3,) (4,) "
     ]
    }
   ],
   "source": [
    "# 但是 numpy 就重载了这个运算符。变成了一一对应的加法\n",
    "from numpy import array\n",
    "print(array([1,2,3]) + array([4,5,6]))\n",
    "\n",
    "# 这样就会出错\n",
    "print(array([1,2,3]) + array([4,5,6,7]))"
   ]
  },
  {
   "cell_type": "code",
   "execution_count": 26,
   "metadata": {
    "collapsed": false
   },
   "outputs": [
    {
     "name": "stdout",
     "output_type": "stream",
     "text": [
      "12332\n",
      "1\n"
     ]
    },
    {
     "data": {
      "text/plain": [
       "4"
      ]
     },
     "execution_count": 26,
     "metadata": {},
     "output_type": "execute_result"
    }
   ],
   "source": [
    "class A():\n",
    "\n",
    "    def __init__(self):\n",
    "        self.l = [1,2,3,4,5]\n",
    "\n",
    "    # overload ()\n",
    "    def __call__(self):\n",
    "        print(\"12332\")\n",
    "        \n",
    "    # overload []\n",
    "    def __getitem__(self, x):\n",
    "        return self.l[x]\n",
    "    \n",
    "    # normal function\n",
    "    def fun1(self, n):\n",
    "        print(n)\n",
    "        \n",
    "a = A()\n",
    "\n",
    "a()\n",
    "a.fun1(1)\n",
    "a[3]"
   ]
  },
  {
   "cell_type": "code",
   "execution_count": 46,
   "metadata": {
    "collapsed": false
   },
   "outputs": [
    {
     "name": "stdout",
     "output_type": "stream",
     "text": [
      "[1, 2, 3, 4, 5] [1, 2, 3, 4, 5] [2, 4] [3]\n",
      "[5, 4, 3, 2, 1] [5, 4, 3, 2, 1] [5, 4] [5, 4, 3, 2] []\n",
      "\n",
      "\n",
      "[2 5]\n",
      "[5 6]\n"
     ]
    }
   ],
   "source": [
    "# slicing 语法\n",
    "a = [1,2,3,4,5]\n",
    "print(a[:], a[::], a[1:5:2], a[2:5:4])\n",
    "print(a[::-1], a[4::-1], a[4:2:-1], a[4:0:-1], a[4:-1:-1])\n",
    "\n",
    "print('\\n')\n",
    "\n",
    "# multi slicing\n",
    "a = array(\n",
    "    [[1,2,3],\n",
    "     [4,5,6]]\n",
    ")\n",
    "print(a[:, 1])\n",
    "print(a[1, 1:3])"
   ]
  },
  {
   "cell_type": "code",
   "execution_count": null,
   "metadata": {
    "collapsed": true
   },
   "outputs": [],
   "source": [
    "\"总结一下\"\n",
    "\n",
    "# generator expression\n",
    "\n",
    "# generator function\n",
    "\n",
    "# operator + - / //\n",
    "\n",
    "# operator override [], ()\n",
    "\n",
    "\n",
    "\n",
    " "
   ]
  }
 ],
 "metadata": {
  "kernelspec": {
   "display_name": "Python 3",
   "language": "python",
   "name": "python3"
  },
  "language_info": {
   "codemirror_mode": {
    "name": "ipython",
    "version": 3
   },
   "file_extension": ".py",
   "mimetype": "text/x-python",
   "name": "python",
   "nbconvert_exporter": "python",
   "pygments_lexer": "ipython3",
   "version": "3.5.2"
  }
 },
 "nbformat": 4,
 "nbformat_minor": 2
}
